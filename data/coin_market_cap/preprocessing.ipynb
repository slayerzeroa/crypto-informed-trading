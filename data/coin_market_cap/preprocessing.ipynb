{
 "cells": [
  {
   "cell_type": "code",
   "execution_count": 1,
   "metadata": {},
   "outputs": [],
   "source": [
    "import glob\n",
    "import pandas as pd\n",
    "import numpy as np"
   ]
  },
  {
   "cell_type": "code",
   "execution_count": 2,
   "metadata": {},
   "outputs": [
    {
     "data": {
      "text/plain": [
       "['./price\\\\Bitcoin_2014. 12. 31.-2015. 12. 31._historical_data_coinmarketcap.csv',\n",
       " './price\\\\Bitcoin_2015. 12. 31.-2016. 12. 31._historical_data_coinmarketcap.csv',\n",
       " './price\\\\Bitcoin_2016. 12. 31.-2017. 12. 31._historical_data_coinmarketcap.csv',\n",
       " './price\\\\Bitcoin_2017. 12. 31.-2018. 12. 31._historical_data_coinmarketcap.csv',\n",
       " './price\\\\Bitcoin_2018. 12. 31.-2019. 12. 31._historical_data_coinmarketcap.csv',\n",
       " './price\\\\Bitcoin_2019. 12. 31.-2020. 12. 31._historical_data_coinmarketcap.csv',\n",
       " './price\\\\Bitcoin_2020. 12. 31.-2021. 12. 31._historical_data_coinmarketcap.csv',\n",
       " './price\\\\Bitcoin_2021. 12. 31.-2022. 12. 31._historical_data_coinmarketcap.csv',\n",
       " './price\\\\Bitcoin_2022. 12. 31.-2023. 12. 31._historical_data_coinmarketcap.csv',\n",
       " './price\\\\Bitcoin_2023. 12. 31.-2024. 12. 31._historical_data_coinmarketcap.csv',\n",
       " './price\\\\Bitcoin_2024. 12. 31.-2025. 3. 13._historical_data_coinmarketcap.csv']"
      ]
     },
     "execution_count": 2,
     "metadata": {},
     "output_type": "execute_result"
    }
   ],
   "source": [
    "file_list = glob.glob('./price/*.csv')\n",
    "file_list"
   ]
  },
  {
   "cell_type": "code",
   "execution_count": 18,
   "metadata": {},
   "outputs": [],
   "source": [
    "import pandas as pd\n",
    "\n",
    "# 빈 데이터프레임 생성 (첫 번째 파일을 기준으로 초기화)\n",
    "combined_df = pd.read_csv(file_list[0], delimiter=';')\n",
    "\n",
    "# 나머지 파일들을 행 방향으로 병합\n",
    "for file in file_list[1:]:\n",
    "    temp_df = pd.read_csv(file, delimiter=';')\n",
    "    combined_df = pd.concat([combined_df, temp_df], axis=0)\n",
    "\n",
    "combined_df = combined_df.sort_values('timestamp')\n",
    "combined_df = combined_df.reset_index(drop=True)\n",
    "\n",
    "combined_df = combined_df[['open', 'high', 'low', 'close', 'volume', 'marketCap', 'timestamp']]\n",
    "combined_df['date'] = combined_df['timestamp'].apply(lambda x: str(x)[0:10])\n",
    "combined_df = combined_df[['date', 'open', 'high', 'low', 'close', 'volume', 'marketCap']]\n",
    "combined_df.to_csv('./price/bitcoin_price_coin_market_cap.csv', index=False)"
   ]
  },
  {
   "cell_type": "code",
   "execution_count": null,
   "metadata": {},
   "outputs": [],
   "source": []
  }
 ],
 "metadata": {
  "kernelspec": {
   "display_name": "base",
   "language": "python",
   "name": "python3"
  },
  "language_info": {
   "codemirror_mode": {
    "name": "ipython",
    "version": 3
   },
   "file_extension": ".py",
   "mimetype": "text/x-python",
   "name": "python",
   "nbconvert_exporter": "python",
   "pygments_lexer": "ipython3",
   "version": "3.12.4"
  }
 },
 "nbformat": 4,
 "nbformat_minor": 2
}
