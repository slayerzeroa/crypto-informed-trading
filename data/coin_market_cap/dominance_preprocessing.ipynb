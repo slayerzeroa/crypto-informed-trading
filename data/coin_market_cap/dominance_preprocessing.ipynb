{
 "cells": [
  {
   "cell_type": "code",
   "execution_count": null,
   "metadata": {},
   "outputs": [
    {
     "name": "stdout",
     "output_type": "stream",
     "text": [
      "              Bitcoin  Ethereum  Tether  BNB  Solana    Others\n",
      "timestamp                                                     \n",
      "2013-04-29  94.172625       0.0     0.0  0.0     0.0  5.827375\n",
      "2013-05-06  94.061586       0.0     0.0  0.0     0.0  5.938414\n",
      "2013-05-13  94.426262       0.0     0.0  0.0     0.0  5.573738\n",
      "2013-05-20  94.731417       0.0     0.0  0.0     0.0  5.268583\n",
      "2013-05-27  95.054673       0.0     0.0  0.0     0.0  4.945327\n"
     ]
    },
    {
     "name": "stderr",
     "output_type": "stream",
     "text": [
      "C:\\Users\\slaye\\AppData\\Local\\Temp\\ipykernel_46184\\2260403035.py:15: DeprecationWarning: datetime.datetime.utcfromtimestamp() is deprecated and scheduled for removal in a future version. Use timezone-aware objects to represent datetimes in UTC: datetime.datetime.fromtimestamp(timestamp, datetime.UTC).\n",
      "  timestamp = datetime.datetime.utcfromtimestamp(int(point[\"timestamp\"]))\n"
     ]
    }
   ],
   "source": [
    "import pandas as pd\n",
    "import datetime\n",
    "import json\n",
    "\n",
    "# 파일에서 JSON 데이터 읽기 (올바른 방식)\n",
    "with open('./dominance/dominance.json', 'r', encoding='utf-8') as f:\n",
    "    data = json.load(f)\n",
    "\n",
    "# Step 1: 각 코인 이름 리스트 만들기\n",
    "coin_names = [cfg.get(\"name\", f\"Unknown_{i}\") for i, cfg in enumerate(data[\"data\"][\"configs\"])]\n",
    "\n",
    "# Step 2: 데이터프레임 생성\n",
    "rows = []\n",
    "for point in data[\"data\"][\"points\"]:\n",
    "    timestamp = datetime.datetime.utcfromtimestamp(int(point[\"timestamp\"]))\n",
    "    row = {\"timestamp\": timestamp}\n",
    "    for i, dominance in enumerate(point[\"dominance\"]):\n",
    "        row[coin_names[i]] = dominance\n",
    "    rows.append(row)\n",
    "\n",
    "df = pd.DataFrame(rows)\n",
    "\n",
    "# timestamp 컬럼을 인덱스로 설정 (옵션)\n",
    "df.set_index(\"timestamp\", inplace=True)\n",
    "\n",
    "# print(df.head())\n",
    "\n",
    "# print(df)"
   ]
  },
  {
   "cell_type": "code",
   "execution_count": 7,
   "metadata": {},
   "outputs": [],
   "source": [
    "df.to_csv('./coin_dominance.csv', index=True)"
   ]
  },
  {
   "cell_type": "code",
   "execution_count": null,
   "metadata": {},
   "outputs": [],
   "source": []
  }
 ],
 "metadata": {
  "kernelspec": {
   "display_name": "base",
   "language": "python",
   "name": "python3"
  },
  "language_info": {
   "codemirror_mode": {
    "name": "ipython",
    "version": 3
   },
   "file_extension": ".py",
   "mimetype": "text/x-python",
   "name": "python",
   "nbconvert_exporter": "python",
   "pygments_lexer": "ipython3",
   "version": "3.12.4"
  }
 },
 "nbformat": 4,
 "nbformat_minor": 2
}
