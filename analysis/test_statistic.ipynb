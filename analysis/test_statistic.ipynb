{
 "cells": [
  {
   "cell_type": "markdown",
   "metadata": {},
   "source": [
    "### 통계적 분석"
   ]
  },
  {
   "cell_type": "code",
   "execution_count": 249,
   "metadata": {},
   "outputs": [],
   "source": [
    "### 라이브러리\n",
    "import numpy as np\n",
    "import pandas as pd\n",
    "\n",
    "from sklearn.model_selection import train_test_split\n",
    "\n",
    "from scipy import stats\n",
    "from scipy.stats import shapiro\n",
    "\n",
    "import statsmodels.api as sm\n",
    "from statsmodels.tsa.stattools import grangercausalitytests\n",
    "from statsmodels.stats.stattools import jarque_bera\n",
    "from statsmodels.stats.outliers_influence import variance_inflation_factor\n",
    "\n",
    "from sklearn.preprocessing import StandardScaler\n",
    "\n",
    "import datetime\n",
    "\n",
    "### 환경설정\n",
    "np.random.seed(4)\n",
    "\n",
    "\n",
    "### 함수 정의\n",
    "def preprocess_transaction_flag(df):\n",
    "    df['transaction_flag'] = df['transaction_count'].apply(lambda x: 1 if x > 0 else 0)\n",
    "    return df\n",
    "\n",
    "\n",
    "def trim_date(df, start, end):\n",
    "    ### df date 형식 맞춰주기\n",
    "    df['date'] = df['date'].astype(str)\n",
    "    if len(df['date'][0]) == 8:\n",
    "        df['date'] = df['date'].apply(lambda x: x[0:4]+'-'+x[4:6]+'-'+x[6:])\n",
    "\n",
    "\n",
    "    return df[(df['date']>=start) & (df['date']<=end)]"
   ]
  },
  {
   "cell_type": "markdown",
   "metadata": {},
   "source": [
    "### 데이터 세팅"
   ]
  },
  {
   "cell_type": "code",
   "execution_count": 250,
   "metadata": {},
   "outputs": [
    {
     "name": "stderr",
     "output_type": "stream",
     "text": [
      "C:\\Users\\slaye\\AppData\\Local\\Temp\\ipykernel_47148\\4152028631.py:57: FutureWarning: The default fill_method='pad' in Series.pct_change is deprecated and will be removed in a future version. Either fill in any non-leading NA values prior to calling pct_change or specify 'fill_method=None' to not fill NA values.\n",
      "  test_df['target_returns'] = test_df['target'].pct_change(1)\n"
     ]
    }
   ],
   "source": [
    "### 학습용 데이터 읽기\n",
    "test_df = pd.read_csv(\"data/test/test_df.csv\")\n",
    "test_df.set_index('date', inplace=True)\n",
    "\n",
    "### 이벤트용 데이터 읽기\n",
    "event_df = pd.read_csv(\"./data/event/final/bitcoin_event_details_sentiment_250324.csv\")\n",
    "event_df.index = event_df['Date'].astype(str).apply(lambda x: x[0:4]+'-'+x[4:6]+'-'+x[6:])\n",
    "# event_df = event_df[event_df['predict']==1]\n",
    "\n",
    "\n",
    "target_event_receive_df = pd.read_csv(\"./data/target/final/event_2_day_transactions_over_120_threshold_1000_receive.csv\")\n",
    "target_event_receive_df = preprocess_transaction_flag(target_event_receive_df)\n",
    "target_event_receive_df.columns = ['date', 'transaction_count', 'transaction_amount', 'transaction_flag']\n",
    "\n",
    "target_event_receive_df = trim_date(target_event_receive_df, (test_df.index)[0], (test_df.index)[-1])\n",
    "\n",
    "\n",
    "\n",
    "### Bitcoin Event Flag 추가 / 긍정, 부정, 애매 이벤트 필터링\n",
    "# pos, neg, neu, all\n",
    "event_sentiment = 'pos'\n",
    "if event_sentiment == 'all':\n",
    "    pass\n",
    "elif event_sentiment == 'pos':\n",
    "    event_df = event_df[event_df['classification']==1]\n",
    "elif event_sentiment == 'neg':\n",
    "    event_df = event_df[event_df['classification']==0]\n",
    "elif event_sentiment == 'neu':\n",
    "    event_df = event_df[event_df['classification']==2]\n",
    "event_df['classification'] = 1\n",
    "event_df = event_df['classification']\n",
    "event_df = event_df[~event_df.index.duplicated(keep='first')]\n",
    "\n",
    "test_df['event_flag'] = event_df\n",
    "test_df['event_flag'] = test_df['event_flag'].fillna(0)\n",
    "event_flag_copy = test_df['event_flag'].values\n",
    "\n",
    "test_df['big_returns_flag'] = test_df['abs_returns'].apply(lambda x: 1 if x >= 0.1 else 0)\n",
    "big_returns_flag_copy = test_df['big_returns_flag'].values\n",
    "\n",
    "\n",
    "### 분석 데이터 선택\n",
    "target_df = target_event_receive_df.copy().set_index('date')\n",
    "\n",
    "### test_df에 target_df 데이터 적용\n",
    "test_df['transaction_count'] = target_df['transaction_count']\n",
    "test_df['transaction_amount'] = target_df['transaction_amount']\n",
    "test_df['transaction_flag'] = target_df['transaction_flag']\n",
    "test_df['transaction_amount_usd'] = test_df['transaction_amount'] * test_df['close']\n",
    "\n",
    "### test_df의 target 선택\n",
    "test_df['target'] = test_df['transaction_amount_usd']\n",
    "test_df['target'] = np.where(test_df['target'] == 0, 1e-10, test_df['target'])\n",
    "\n",
    "### target 관련 파생변수 생성\n",
    "test_df['target_delta'] = test_df['target'].diff(1)\n",
    "test_df['target_returns'] = test_df['target'].pct_change(1)\n",
    "test_df['target_flag'] = test_df['target_delta'].apply(lambda x: 1 if x > 0 else 0).shift(-1).fillna(0)\n",
    "\n",
    "target_flag_copy = test_df['target_flag'].values\n",
    "\n",
    "\n",
    "### VPIN 관련 변수 추가\n",
    "vpin = pd.read_csv('./data/vpin/vpin.csv')\n",
    "vpin['ma_10'] = vpin['vpin'].rolling(10).mean()\n",
    "vpin['ma_10'] = vpin['ma_10'].fillna(vpin['ma_10'].mean())\n",
    "vpin = vpin.set_index('date')\n",
    "\n",
    "test_df['vpin'] = vpin['vpin']\n",
    "test_df['vpin_ma_10'] = vpin['ma_10']\n",
    "\n",
    "##### 전처리 관련\n",
    "test_df = test_df.replace([np.inf, -np.inf], np.nan)\n",
    "test_df = test_df.fillna(test_df.mean())"
   ]
  },
  {
   "cell_type": "code",
   "execution_count": 251,
   "metadata": {},
   "outputs": [
    {
     "data": {
      "text/html": [
       "<div>\n",
       "<style scoped>\n",
       "    .dataframe tbody tr th:only-of-type {\n",
       "        vertical-align: middle;\n",
       "    }\n",
       "\n",
       "    .dataframe tbody tr th {\n",
       "        vertical-align: top;\n",
       "    }\n",
       "\n",
       "    .dataframe thead th {\n",
       "        text-align: right;\n",
       "    }\n",
       "</style>\n",
       "<table border=\"1\" class=\"dataframe\">\n",
       "  <thead>\n",
       "    <tr style=\"text-align: right;\">\n",
       "      <th></th>\n",
       "      <th>count</th>\n",
       "      <th>mean</th>\n",
       "      <th>std</th>\n",
       "      <th>min</th>\n",
       "      <th>1%</th>\n",
       "      <th>25%</th>\n",
       "      <th>50%</th>\n",
       "      <th>75%</th>\n",
       "      <th>99%</th>\n",
       "      <th>max</th>\n",
       "    </tr>\n",
       "  </thead>\n",
       "  <tbody>\n",
       "    <tr>\n",
       "      <th>returns</th>\n",
       "      <td>2830.0</td>\n",
       "      <td>1.612090e-03</td>\n",
       "      <td>3.607990e-02</td>\n",
       "      <td>-3.950485e-01</td>\n",
       "      <td>-9.999244e-02</td>\n",
       "      <td>-1.227509e-02</td>\n",
       "      <td>0.000000e+00</td>\n",
       "      <td>1.529362e-02</td>\n",
       "      <td>1.063411e-01</td>\n",
       "      <td>2.250139e-01</td>\n",
       "    </tr>\n",
       "    <tr>\n",
       "      <th>transaction_amount</th>\n",
       "      <td>2830.0</td>\n",
       "      <td>1.851405e+05</td>\n",
       "      <td>9.541025e+05</td>\n",
       "      <td>0.000000e+00</td>\n",
       "      <td>0.000000e+00</td>\n",
       "      <td>0.000000e+00</td>\n",
       "      <td>1.000000e+04</td>\n",
       "      <td>1.285258e+05</td>\n",
       "      <td>2.228565e+06</td>\n",
       "      <td>2.491523e+07</td>\n",
       "    </tr>\n",
       "    <tr>\n",
       "      <th>target</th>\n",
       "      <td>2830.0</td>\n",
       "      <td>1.823643e+09</td>\n",
       "      <td>5.089270e+09</td>\n",
       "      <td>1.000000e-10</td>\n",
       "      <td>1.000000e-10</td>\n",
       "      <td>1.000000e-10</td>\n",
       "      <td>2.242831e+08</td>\n",
       "      <td>1.823643e+09</td>\n",
       "      <td>1.598677e+10</td>\n",
       "      <td>1.066540e+11</td>\n",
       "    </tr>\n",
       "    <tr>\n",
       "      <th>target_delta</th>\n",
       "      <td>2830.0</td>\n",
       "      <td>-1.511529e+06</td>\n",
       "      <td>4.740623e+09</td>\n",
       "      <td>-5.895144e+10</td>\n",
       "      <td>-9.631444e+09</td>\n",
       "      <td>-1.964618e+08</td>\n",
       "      <td>0.000000e+00</td>\n",
       "      <td>8.958915e+07</td>\n",
       "      <td>1.046060e+10</td>\n",
       "      <td>6.482819e+10</td>\n",
       "    </tr>\n",
       "    <tr>\n",
       "      <th>target_returns</th>\n",
       "      <td>2830.0</td>\n",
       "      <td>2.304158e+18</td>\n",
       "      <td>1.682938e+19</td>\n",
       "      <td>-1.000000e+00</td>\n",
       "      <td>-1.000000e+00</td>\n",
       "      <td>-2.498244e-01</td>\n",
       "      <td>0.000000e+00</td>\n",
       "      <td>2.406381e-01</td>\n",
       "      <td>5.823788e+19</td>\n",
       "      <td>5.895144e+20</td>\n",
       "    </tr>\n",
       "    <tr>\n",
       "      <th>vpin</th>\n",
       "      <td>2830.0</td>\n",
       "      <td>6.453470e-01</td>\n",
       "      <td>6.112185e-02</td>\n",
       "      <td>9.000000e-04</td>\n",
       "      <td>4.836492e-01</td>\n",
       "      <td>6.098612e-01</td>\n",
       "      <td>6.482219e-01</td>\n",
       "      <td>6.859938e-01</td>\n",
       "      <td>7.729164e-01</td>\n",
       "      <td>8.470440e-01</td>\n",
       "    </tr>\n",
       "  </tbody>\n",
       "</table>\n",
       "</div>"
      ],
      "text/plain": [
       "                     count          mean           std           min  \\\n",
       "returns             2830.0  1.612090e-03  3.607990e-02 -3.950485e-01   \n",
       "transaction_amount  2830.0  1.851405e+05  9.541025e+05  0.000000e+00   \n",
       "target              2830.0  1.823643e+09  5.089270e+09  1.000000e-10   \n",
       "target_delta        2830.0 -1.511529e+06  4.740623e+09 -5.895144e+10   \n",
       "target_returns      2830.0  2.304158e+18  1.682938e+19 -1.000000e+00   \n",
       "vpin                2830.0  6.453470e-01  6.112185e-02  9.000000e-04   \n",
       "\n",
       "                              1%           25%           50%           75%  \\\n",
       "returns            -9.999244e-02 -1.227509e-02  0.000000e+00  1.529362e-02   \n",
       "transaction_amount  0.000000e+00  0.000000e+00  1.000000e+04  1.285258e+05   \n",
       "target              1.000000e-10  1.000000e-10  2.242831e+08  1.823643e+09   \n",
       "target_delta       -9.631444e+09 -1.964618e+08  0.000000e+00  8.958915e+07   \n",
       "target_returns     -1.000000e+00 -2.498244e-01  0.000000e+00  2.406381e-01   \n",
       "vpin                4.836492e-01  6.098612e-01  6.482219e-01  6.859938e-01   \n",
       "\n",
       "                             99%           max  \n",
       "returns             1.063411e-01  2.250139e-01  \n",
       "transaction_amount  2.228565e+06  2.491523e+07  \n",
       "target              1.598677e+10  1.066540e+11  \n",
       "target_delta        1.046060e+10  6.482819e+10  \n",
       "target_returns      5.823788e+19  5.895144e+20  \n",
       "vpin                7.729164e-01  8.470440e-01  "
      ]
     },
     "execution_count": 251,
     "metadata": {},
     "output_type": "execute_result"
    }
   ],
   "source": [
    "test_df[['returns', 'transaction_amount', 'target', 'target_delta', 'target_returns', 'vpin']].describe(percentiles=[.01, .25, .5, .75, .99]).T"
   ]
  },
  {
   "cell_type": "markdown",
   "metadata": {},
   "source": [
    "### 기본적인 통계, 시계열 분석"
   ]
  },
  {
   "cell_type": "code",
   "execution_count": 252,
   "metadata": {},
   "outputs": [
    {
     "name": "stdout",
     "output_type": "stream",
     "text": [
      "             target  target_delta  target_returns\n",
      "count  2.830000e+03  2.830000e+03    2.830000e+03\n",
      "mean   1.823643e+09 -1.511529e+06    2.304158e+18\n",
      "std    5.089270e+09  4.740623e+09    1.682938e+19\n",
      "min    1.000000e-10 -5.895144e+10   -1.000000e+00\n",
      "25%    1.000000e-10 -1.964618e+08   -2.498244e-01\n",
      "50%    2.242831e+08  0.000000e+00    0.000000e+00\n",
      "75%    1.823643e+09  8.958915e+07    2.406381e-01\n",
      "max    1.066540e+11  6.482819e+10    5.895144e+20\n",
      "date\n",
      "2017     0.0\n",
      "2018    26.0\n",
      "2019    10.0\n",
      "2020    11.0\n",
      "2021    10.0\n",
      "2022     4.0\n",
      "2023     0.0\n",
      "2024     3.0\n",
      "Name: event_flag, dtype: float64\n"
     ]
    }
   ],
   "source": [
    "stats_df = test_df.copy()\n",
    "\n",
    "print(stats_df[['target', 'target_delta', 'target_returns']].describe())\n",
    "\n",
    "stats_df.index = pd.to_datetime(stats_df.index)\n",
    "\n",
    "# 연도별 event_flag 개수 확인\n",
    "event_count_per_year = stats_df.groupby(stats_df.index.year)['event_flag'].sum()\n",
    "\n",
    "# 결과 출력\n",
    "print(event_count_per_year)\n"
   ]
  },
  {
   "cell_type": "code",
   "execution_count": 253,
   "metadata": {},
   "outputs": [
    {
     "data": {
      "text/plain": [
       "transaction_flag\n",
       "1    1572\n",
       "0    1258\n",
       "Name: count, dtype: int64"
      ]
     },
     "execution_count": 253,
     "metadata": {},
     "output_type": "execute_result"
    }
   ],
   "source": [
    "lagged_event_df = test_df.copy()\n",
    "lagged_event_df['transaction_flag'].value_counts()"
   ]
  },
  {
   "cell_type": "code",
   "execution_count": 254,
   "metadata": {},
   "outputs": [
    {
     "data": {
      "text/plain": [
       "transaction_flag\n",
       "1    36\n",
       "0    35\n",
       "Name: count, dtype: int64"
      ]
     },
     "execution_count": 254,
     "metadata": {},
     "output_type": "execute_result"
    }
   ],
   "source": [
    "lagged_event_df = test_df.copy()\n",
    "lagged_event_df['lagged_event_flag'] = lagged_event_df['big_returns_flag'].shift(-8).fillna(0)\n",
    "lagged_event_df[lagged_event_df['lagged_event_flag']==1]['transaction_flag'].value_counts()"
   ]
  },
  {
   "cell_type": "markdown",
   "metadata": {},
   "source": [
    "### VIF: Volume과 Target Delta 사이 설명력 중복 확인"
   ]
  },
  {
   "cell_type": "code",
   "execution_count": 255,
   "metadata": {},
   "outputs": [
    {
     "name": "stdout",
     "output_type": "stream",
     "text": [
      "                   returns  lag_target_delta    target    volume\n",
      "returns           1.000000          0.028948 -0.103140  0.101290\n",
      "lag_target_delta  0.028948          1.000000  0.328641  0.011174\n",
      "target           -0.103140          0.328641  1.000000 -0.053588\n",
      "volume            0.101290          0.011174 -0.053588  1.000000\n",
      "            Feature       VIF\n",
      "0  lag_target_delta  1.058397\n",
      "1            target  1.168842\n",
      "2            volume  1.108058\n"
     ]
    }
   ],
   "source": [
    "\n",
    "# Target Delta를 적절히 Lagging\n",
    "test_df['lag_target_delta'] = test_df['target_delta'].shift(1)\n",
    "\n",
    "# Independent, Dependent 분리\n",
    "y = test_df['returns'].shift(-3).fillna(test_df['returns'].mean())\n",
    "X = test_df[['lag_target_delta', 'target', 'volume']].fillna(test_df.mean())\n",
    "\n",
    "\n",
    "X['returns'] = test_df['returns'].shift(-3).fillna(test_df['returns'].mean())\n",
    "\n",
    "## train, test 데이터 분리\n",
    "X_train, X_test, y_train, y_test = train_test_split(X, y, test_size=0.6, shuffle=False)\n",
    "\n",
    "start = '2023-01-01'\n",
    "end = '2024-12-31'\n",
    "X_test = X[(X.index >= start)&(X.index <= end)]\n",
    "y_test = y[(y.index >= start)&(y.index <= end)]\n",
    "\n",
    "\n",
    "print(X_test[['returns', 'lag_target_delta', 'target', 'volume']].corr())  # 상관관계 확인\n",
    "\n",
    "# VIF 계산\n",
    "X = X[['lag_target_delta', 'target', 'volume']]  # OLS 모델에서 사용한 독립변수들\n",
    "X_train, X_test, y_train, y_test = train_test_split(X, y, test_size=0.4, shuffle=False)\n",
    "vif_data = pd.DataFrame()\n",
    "vif_data[\"Feature\"] = X_test.columns\n",
    "vif_data[\"VIF\"] = [variance_inflation_factor(X_test.values, i) for i in range(X_test.shape[1])]\n",
    "\n",
    "print(vif_data)"
   ]
  },
  {
   "cell_type": "markdown",
   "metadata": {},
   "source": [
    "### Event 이후 Statistics"
   ]
  },
  {
   "cell_type": "code",
   "execution_count": 256,
   "metadata": {},
   "outputs": [],
   "source": [
    "# 수익률 계산 함수\n",
    "def calculate_returns(test_df, event_df, days):\n",
    "    returns = {}\n",
    "    event_df.index = pd.to_datetime(event_df.index).date\n",
    "    for date in event_df.index:\n",
    "        future_date = (date + pd.Timedelta(days=days)).strftime('%Y-%m-%d')\n",
    "        past_date = (date - pd.Timedelta(days=1)).strftime('%Y-%m-%d')\n",
    "        date = date.strftime('%Y-%m-%d')\n",
    "        if future_date in test_df.index:\n",
    "            ret = (test_df.loc[future_date, 'close'] - test_df.loc[past_date, 'close']) / test_df.loc[past_date, 'close']\n",
    "            returns[date] = ret\n",
    "        else:\n",
    "            returns[date] = None  # 미래 데이터가 없는 경우\n",
    "    return pd.Series(returns)"
   ]
  },
  {
   "cell_type": "code",
   "execution_count": 257,
   "metadata": {},
   "outputs": [
    {
     "name": "stderr",
     "output_type": "stream",
     "text": [
      "C:\\Users\\slaye\\AppData\\Local\\Temp\\ipykernel_47148\\1765247884.py:13: SettingWithCopyWarning: \n",
      "A value is trying to be set on a copy of a slice from a DataFrame.\n",
      "Try using .loc[row_indexer,col_indexer] = value instead\n",
      "\n",
      "See the caveats in the documentation: https://pandas.pydata.org/pandas-docs/stable/user_guide/indexing.html#returning-a-view-versus-a-copy\n",
      "  pos_event_df['classification'] = 1\n",
      "C:\\Users\\slaye\\AppData\\Local\\Temp\\ipykernel_47148\\1765247884.py:18: SettingWithCopyWarning: \n",
      "A value is trying to be set on a copy of a slice from a DataFrame.\n",
      "Try using .loc[row_indexer,col_indexer] = value instead\n",
      "\n",
      "See the caveats in the documentation: https://pandas.pydata.org/pandas-docs/stable/user_guide/indexing.html#returning-a-view-versus-a-copy\n",
      "  neg_event_df['classification'] = 1\n",
      "C:\\Users\\slaye\\AppData\\Local\\Temp\\ipykernel_47148\\1765247884.py:23: SettingWithCopyWarning: \n",
      "A value is trying to be set on a copy of a slice from a DataFrame.\n",
      "Try using .loc[row_indexer,col_indexer] = value instead\n",
      "\n",
      "See the caveats in the documentation: https://pandas.pydata.org/pandas-docs/stable/user_guide/indexing.html#returning-a-view-versus-a-copy\n",
      "  neu_event_df['classification'] = 1\n"
     ]
    }
   ],
   "source": [
    "### 이벤트용 데이터 읽기\n",
    "event_df = pd.read_csv(\"./data/event/final/bitcoin_event_details_sentiment_250324.csv\")\n",
    "# event_df = pd.read_csv(\"./data/event/final/bitcoin_event_details_sentiment_screened_250324.csv\")\n",
    "event_df.index = event_df['Date'].astype(str).apply(lambda x: x[0:4]+'-'+x[4:6]+'-'+x[6:])\n",
    "event_df = event_df[event_df.index >=\"2018-01-01\"]\n",
    "\n",
    "all_event_df = event_df.copy()\n",
    "all_event_df['classification'] = 1\n",
    "all_event_df = all_event_df['classification']\n",
    "all_event_df = all_event_df[~all_event_df.index.duplicated(keep='first')].to_frame()\n",
    "\n",
    "pos_event_df = event_df[event_df['classification']==1]\n",
    "pos_event_df['classification'] = 1\n",
    "pos_event_df = pos_event_df['classification']\n",
    "pos_event_df = pos_event_df[~pos_event_df.index.duplicated(keep='first')].to_frame()\n",
    "\n",
    "neg_event_df = event_df[event_df['classification']==0]\n",
    "neg_event_df['classification'] = 1\n",
    "neg_event_df = neg_event_df['classification']\n",
    "neg_event_df = neg_event_df[~neg_event_df.index.duplicated(keep='first')].to_frame()\n",
    "\n",
    "neu_event_df = event_df[event_df['classification']==2]\n",
    "neu_event_df['classification'] = 1\n",
    "neu_event_df = neu_event_df['classification']\n",
    "neu_event_df = neu_event_df[~neu_event_df.index.duplicated(keep='first')].to_frame()"
   ]
  },
  {
   "cell_type": "code",
   "execution_count": 258,
   "metadata": {},
   "outputs": [],
   "source": [
    "increasing_df = test_df[test_df['target_flag']==1].target_flag.to_frame()\n",
    "big_returns_df = test_df[test_df['big_returns_flag']==1].big_returns_flag.to_frame()"
   ]
  },
  {
   "cell_type": "code",
   "execution_count": 259,
   "metadata": {},
   "outputs": [],
   "source": [
    "# 각 기간의 수익률 계산\n",
    "pos_event_df['event_returns'] = list(calculate_returns(test_df, pos_event_df, 0))\n",
    "neg_event_df['event_returns'] = list(calculate_returns(test_df, neg_event_df, 0))\n",
    "neu_event_df['event_returns'] = list(calculate_returns(test_df, neu_event_df, 0))\n",
    "all_event_df['event_returns'] = list(calculate_returns(test_df, all_event_df, 0))\n",
    "increasing_df['event_returns'] = list(calculate_returns(test_df, increasing_df, 0))\n",
    "big_returns_df['event_returns'] = list(calculate_returns(test_df, big_returns_df, 0))\n"
   ]
  },
  {
   "cell_type": "code",
   "execution_count": 260,
   "metadata": {},
   "outputs": [
    {
     "name": "stdout",
     "output_type": "stream",
     "text": [
      "Count of event: 120\n",
      "Mean returns of all event: 0.0024905870865804544\n",
      "Count of event: 64\n",
      "Mean returns of positive event: 0.006452382471973771\n",
      "Count of event: 31\n",
      "Mean returns of negative event: -0.008800953013272737\n",
      "Count of event: 32\n",
      "Mean returns of neutral event: 0.002737552576752833\n",
      "Count of event: 810\n",
      "Mean returns of increasing flag event: 0.0006916901977308143\n",
      "Count of event: 71\n",
      "Mean returns of big returns event: 0.018645453153990136\n"
     ]
    }
   ],
   "source": [
    "print(\"Count of event:\", len(all_event_df))\n",
    "print(\"Mean returns of all event:\", all_event_df.event_returns.mean())\n",
    "\n",
    "print(\"Count of event:\", len(pos_event_df))\n",
    "print(\"Mean returns of positive event:\", pos_event_df.event_returns.mean())\n",
    "\n",
    "print(\"Count of event:\", len(neg_event_df))\n",
    "print(\"Mean returns of negative event:\", neg_event_df.event_returns.mean())\n",
    "\n",
    "print(\"Count of event:\", len(neu_event_df))\n",
    "print(\"Mean returns of neutral event:\", neu_event_df.event_returns.mean())\n",
    "\n",
    "print(\"Count of event:\", len(increasing_df))\n",
    "print(\"Mean returns of increasing flag event:\", increasing_df.event_returns.mean())\n",
    "\n",
    "print(\"Count of event:\", len(big_returns_df))\n",
    "print(\"Mean returns of big returns event:\", big_returns_df.event_returns.mean())\n",
    "\n"
   ]
  },
  {
   "cell_type": "code",
   "execution_count": 261,
   "metadata": {},
   "outputs": [
    {
     "name": "stdout",
     "output_type": "stream",
     "text": [
      "                    count      mean       std       min        1%       25%  \\\n",
      "All Events          120.0  0.002491  0.044322 -0.116401 -0.111185 -0.015733   \n",
      "Positive Events      64.0  0.006452  0.046277 -0.111914 -0.101904 -0.015440   \n",
      "Negative Events      31.0 -0.008801  0.035668 -0.116401 -0.112416 -0.017688   \n",
      "Neutral Events       32.0  0.002738  0.043178 -0.108080 -0.100270 -0.013379   \n",
      "Increasing Events   810.0  0.000692  0.044128 -0.465504 -0.110139 -0.015977   \n",
      "Big Returns Events   71.0  0.018645  0.135479 -0.395048 -0.254996 -0.111172   \n",
      "\n",
      "                         50%       75%       99%       max  \n",
      "All Events          0.004693  0.017952  0.135706  0.195361  \n",
      "Positive Events     0.006181  0.020125  0.160092  0.195361  \n",
      "Negative Events    -0.007446  0.011565  0.044188  0.047260  \n",
      "Neutral Events      0.001968  0.014267  0.100570  0.106569  \n",
      "Increasing Events   0.000705  0.019529  0.107585  0.225014  \n",
      "Big Returns Events  0.102610  0.118507  0.204257  0.225014  \n"
     ]
    }
   ],
   "source": [
    "# 각 event_returns에 대한 describe 결과를 시리즈로 저장\n",
    "summary_all = all_event_df['event_returns'].describe(percentiles=[.01, .25, .5, .75, .99])\n",
    "summary_pos = pos_event_df['event_returns'].describe(percentiles=[.01, .25, .5, .75, .99])\n",
    "summary_neg = neg_event_df['event_returns'].describe(percentiles=[.01, .25, .5, .75, .99])\n",
    "summary_neu = neu_event_df['event_returns'].describe(percentiles=[.01, .25, .5, .75, .99])\n",
    "summary_inc = increasing_df['event_returns'].describe(percentiles=[.01, .25, .5, .75, .99])\n",
    "summary_big = big_returns_df['event_returns'].describe(percentiles=[.01, .25, .5, .75, .99])\n",
    "\n",
    "# 하나의 DataFrame으로 병합\n",
    "event_summary_df = pd.DataFrame({\n",
    "    'All Events': summary_all,\n",
    "    'Positive Events': summary_pos,\n",
    "    'Negative Events': summary_neg,\n",
    "    'Neutral Events': summary_neu,\n",
    "    'Increasing Events': summary_inc,\n",
    "    'Big Returns Events': summary_big,\n",
    "})\n",
    "\n",
    "# 보기 좋게 전치\n",
    "event_summary_df = event_summary_df.T\n",
    "\n",
    "# 결과 출력\n",
    "print(event_summary_df)\n"
   ]
  },
  {
   "cell_type": "code",
   "execution_count": null,
   "metadata": {},
   "outputs": [],
   "source": []
  }
 ],
 "metadata": {
  "kernelspec": {
   "display_name": "base",
   "language": "python",
   "name": "python3"
  },
  "language_info": {
   "codemirror_mode": {
    "name": "ipython",
    "version": 3
   },
   "file_extension": ".py",
   "mimetype": "text/x-python",
   "name": "python",
   "nbconvert_exporter": "python",
   "pygments_lexer": "ipython3",
   "version": "3.12.4"
  }
 },
 "nbformat": 4,
 "nbformat_minor": 2
}
