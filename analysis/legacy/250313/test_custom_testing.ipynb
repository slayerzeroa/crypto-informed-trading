{
 "cells": [
  {
   "cell_type": "markdown",
   "metadata": {},
   "source": [
    "### Custom Returns Check"
   ]
  },
  {
   "cell_type": "code",
   "execution_count": 112,
   "metadata": {},
   "outputs": [],
   "source": [
    "### 라이브러리\n",
    "import numpy as np\n",
    "import pandas as pd\n",
    "\n",
    "from sklearn.preprocessing import StandardScaler\n",
    "\n",
    "import datetime\n",
    "\n",
    "### 환경설정\n",
    "np.random.seed(4)\n",
    "\n",
    "def trim_date(df, start, end):\n",
    "    ### df date 형식 맞춰주기\n",
    "    df['date'] = df['date'].astype(str)\n",
    "    if len(df['date'][0]) == 8:\n",
    "        df['date'] = df['date'].apply(lambda x: x[0:4]+'-'+x[4:6]+'-'+x[6:])\n",
    "\n",
    "\n",
    "    return df[(df['date']>=start) & (df['date']<=end)]"
   ]
  },
  {
   "cell_type": "code",
   "execution_count": 113,
   "metadata": {},
   "outputs": [
    {
     "name": "stderr",
     "output_type": "stream",
     "text": [
      "C:\\Users\\slaye\\AppData\\Local\\Temp\\ipykernel_34000\\2207796811.py:50: FutureWarning: The default fill_method='pad' in Series.pct_change is deprecated and will be removed in a future version. Either fill in any non-leading NA values prior to calling pct_change or specify 'fill_method=None' to not fill NA values.\n",
      "  test_df['target_returns'] = test_df['target'].pct_change(1)\n"
     ]
    }
   ],
   "source": [
    "### 학습용 데이터 읽기\n",
    "test_df = pd.read_csv(\"data/test/test_df.csv\")\n",
    "test_df.set_index('date', inplace=True)\n",
    "\n",
    "### target df 읽기\n",
    "target_event_receive_df = pd.read_csv(\"./data/target/event_2_day_transactions_over_100_receive.csv\")\n",
    "target_event_receive_df.columns = ['date', 'transaction_count', 'transaction_amount', 'transaction_flag']\n",
    "target_event_receive_df = trim_date(target_event_receive_df, (test_df.index)[0], (test_df.index)[-1])\n",
    "\n",
    "\n",
    "\n",
    "### Bitcoin Event Flag 추가 / 긍정, 부정, 애매 이벤트 필터링\n",
    "# pos, neg, neu, all\n",
    "event_sentiment = 'neg'\n",
    "\n",
    "event_df = pd.read_csv(\"./data/event/bitcoin_event_details_sentiment.csv\")\n",
    "event_df.index = event_df['Date'].astype(str).apply(lambda x: x[0:4]+'-'+x[4:6]+'-'+x[6:])\n",
    "\n",
    "if event_sentiment == 'all':\n",
    "    pass\n",
    "elif event_sentiment == 'pos':\n",
    "    event_df = event_df[event_df['classification']==1]\n",
    "elif event_sentiment == 'neg':\n",
    "    event_df = event_df[event_df['classification']==0]\n",
    "elif event_sentiment == 'neu':\n",
    "    event_df = event_df[event_df['classification']==2]\n",
    "event_df['classification'] = 1\n",
    "event_df = event_df['classification']\n",
    "event_df = event_df[~event_df.index.duplicated(keep='first')]\n",
    "test_df['event_flag'] = event_df\n",
    "test_df['event_flag'] = test_df['event_flag'].fillna(0)\n",
    "event_flag_copy = test_df['event_flag'].values\n",
    "\n",
    "\n",
    "### 분석 데이터 선택\n",
    "target_df = target_event_receive_df.copy().set_index('date')\n",
    "\n",
    "### test_df에 target_df 데이터 적용\n",
    "test_df['transaction_count'] = target_df['transaction_count']\n",
    "test_df['transaction_amount'] = target_df['transaction_amount']\n",
    "test_df['transaction_flag'] = target_df['transaction_flag']\n",
    "test_df['transaction_amount_usd'] = test_df['transaction_amount'] * test_df['close']\n",
    "\n",
    "### test_df의 target 선택\n",
    "test_df['target'] = test_df['transaction_amount_usd']\n",
    "test_df['target'] = np.where(test_df['target'] == 0, 1e-10, test_df['target'])\n",
    "\n",
    "### target 관련 파생변수 생성\n",
    "test_df['target_delta'] = test_df['target'].diff(1)\n",
    "test_df['target_returns'] = test_df['target'].pct_change(1)\n",
    "\n",
    "### VPIN 관련 변수 추가\n",
    "vpin = pd.read_csv('./data/vpin/vpin.csv')\n",
    "vpin['ma_10'] = vpin['vpin'].rolling(10).mean()\n",
    "vpin['ma_10'] = vpin['ma_10'].fillna(vpin['ma_10'].mean())\n",
    "vpin = vpin.set_index('date')\n",
    "test_df['vpin'] = vpin['vpin']\n",
    "test_df['vpin_ma_10'] = vpin['ma_10']\n",
    "\n",
    "### 수익률 관련 변수\n",
    "returns_copy = test_df['returns'].copy()\n",
    "\n",
    "##### 전처리 관련\n",
    "test_df = test_df.replace([np.inf, -np.inf], np.nan)\n",
    "test_df = test_df.fillna(test_df.mean())"
   ]
  },
  {
   "cell_type": "markdown",
   "metadata": {},
   "source": [
    "### Custom Testing용 파생변수 생성"
   ]
  },
  {
   "cell_type": "code",
   "execution_count": 114,
   "metadata": {},
   "outputs": [],
   "source": [
    "# trading flag 생성\n",
    "test_df['transaction_amount_returns'] = test_df['transaction_amount_usd'].pct_change(1).fillna(test_df.mean())\n",
    "threshold = 0\n",
    "test_df['transaction_amount_trading_flag'] = test_df['transaction_amount_returns'].apply(lambda x: 1 if x > threshold else (-1 if x < -threshold else (-1 if x == np.inf else 0)))\n",
    "test_df['transaction_amount_trading_reversion'] = test_df['transaction_amount_returns'].apply(lambda x: -1 if x > 0 else (1 if x < -0 else 0))\n",
    "\n",
    "# 지연 수익률 계산, carrying 수익률 \n",
    "test_df['returns'] = test_df['close'].pct_change(1).fillna(test_df.mean())\n",
    "test_df['returns_after_1day'] = test_df['returns'].shift(-1).fillna(test_df.mean())\n",
    "test_df['returns_after_2day'] = test_df['returns'].shift(-2).fillna(test_df.mean())\n",
    "test_df['returns_after_3day'] = test_df['returns'].shift(-3).fillna(test_df.mean())\n",
    "test_df['returns_during_2day'] = test_df['close'].pct_change(2).shift(-2).fillna(test_df.mean())\n",
    "test_df['returns_during_3day'] = test_df['close'].pct_change(3).shift(-3).fillna(test_df.mean())\n",
    "\n",
    "## 변화율에서 inf값 나올텐데 그거 어떻게 처리할지\n",
    "test_df = test_df.replace([np.inf, -np.inf], np.nan)\n",
    "test_df = test_df.fillna(test_df.mean())\n",
    "\n",
    "\n",
    "# check test df 날짜 인덱싱\n",
    "check_test_df = test_df.copy()\n",
    "check_test_df = check_test_df[check_test_df.index>='2023-01-01']\n",
    "\n",
    "# Trading 결과 확인하기 위해 adjusted_returns 생성\n",
    "check_test_df['adjusted_returns'] = 0 # 새로운 열 'adjusted_returns'를 생성하여 기본값을 0으로 설정\n",
    "\n",
    "trading_price_df = check_test_df[check_test_df['transaction_amount_trading_flag']==-1]\n",
    "\n",
    "# 'adjusted_returns' 열을 float으로 변환 후 값 할당\n",
    "check_test_df['adjusted_returns'] = check_test_df['adjusted_returns'].astype(float)\n",
    "check_test_df.loc[trading_price_df.index, 'adjusted_returns'] = trading_price_df['returns_after_3day'].astype(float).copy()\n",
    "\n",
    "# trading_price_df = check_test_df[check_test_df['transaction_amount_trading_flag']==1]\n",
    "# check_test_df.loc[trading_price_df.index, 'adjusted_returns'] = trading_price_df['returns_after_2day'].apply(lambda x: -x) # trading_price_df의 index에 해당하는 행만 원래 'returns' 값을 유지"
   ]
  },
  {
   "cell_type": "code",
   "execution_count": 115,
   "metadata": {},
   "outputs": [
    {
     "name": "stdout",
     "output_type": "stream",
     "text": [
      "The mean of returns: 0.001747848142226556\n",
      "The mean of Top 1% returns: -0.012996536484602424\n",
      "The mean of Bottom 1% returns: 0.0063179081554285196\n"
     ]
    }
   ],
   "source": [
    "### Returns의 기본적인 평균값\n",
    "print(\"The mean of returns:\", test_df['returns'].mean())\n",
    "\n",
    "\n",
    "### 만약 상위 1% threshold를 넘기면?\n",
    "threshold = test_df.target.quantile(0.99)\n",
    "returns_check_df = test_df[test_df['target']>=threshold]\n",
    "print(\"The mean of Top 1% returns:\", returns_check_df['returns_after_3day'].mean())\n",
    "\n",
    "### 만약 하위 1% threshold를 넘기면?\n",
    "threshold = test_df.target.quantile(0.01)\n",
    "returns_check_df = test_df[test_df['target']<=threshold]\n",
    "print(\"The mean of Bottom 1% returns:\", returns_check_df['returns_after_2day'].mean())"
   ]
  },
  {
   "cell_type": "code",
   "execution_count": 116,
   "metadata": {},
   "outputs": [
    {
     "name": "stdout",
     "output_type": "stream",
     "text": [
      "The mean of returns: 0.0034761099831929886\n",
      "The mean of Top 1% returns: -0.01407071342656633\n",
      "The mean of Bottom 1% returns: 0.010804024530239764\n"
     ]
    }
   ],
   "source": [
    "### During 2 days의 기본적인 평균값\n",
    "print(\"The mean of returns:\", test_df['returns_during_2day'].mean())\n",
    "\n",
    "\n",
    "### 만약 상위 1% threshold를 넘기면?\n",
    "threshold = test_df.target.quantile(0.99)\n",
    "returns_check_df = test_df[test_df['target']>=threshold]\n",
    "print(\"The mean of Top 1% returns:\", returns_check_df['returns_during_2day'].mean())\n",
    "\n",
    "### 만약 하위 1% threshold를 넘기면?\n",
    "threshold = test_df.target.quantile(0.01)\n",
    "returns_check_df = test_df[test_df['target']<=threshold]\n",
    "print(\"The mean of Bottom 1% returns:\", returns_check_df['returns_during_2day'].mean())"
   ]
  },
  {
   "cell_type": "code",
   "execution_count": 117,
   "metadata": {},
   "outputs": [
    {
     "name": "stdout",
     "output_type": "stream",
     "text": [
      "The mean of returns: 0.00521905678927385\n",
      "The mean of Bottom 1% returns: 0.023830265026681487\n"
     ]
    }
   ],
   "source": [
    "### During 3 days의 기본적인 평균값\n",
    "print(\"The mean of returns:\", test_df['returns_during_3day'].mean())\n",
    "\n",
    "\n",
    "\n",
    "### 만약 하위 1% threshold를 넘기면?\n",
    "threshold = test_df.target.quantile(0.01)\n",
    "returns_check_df = test_df[test_df['target']<=threshold]\n",
    "print(\"The mean of Bottom 1% returns:\", returns_check_df['returns_during_3day'].mean())"
   ]
  },
  {
   "cell_type": "code",
   "execution_count": 118,
   "metadata": {},
   "outputs": [
    {
     "name": "stdout",
     "output_type": "stream",
     "text": [
      "The mean of returns: 0.00521905678927385\n",
      "The mean of Top 1% returns: -0.010974466268708781\n",
      "The mean of Bottom 1% returns: -0.0020215576386497652\n"
     ]
    }
   ],
   "source": [
    "### Target Delta\n",
    "print(\"The mean of returns:\", test_df['returns_during_3day'].mean())\n",
    "\n",
    "### 만약 상위 1% threshold를 넘기면?\n",
    "threshold = test_df.target_delta.quantile(0.99)\n",
    "returns_check_df = test_df[test_df['target_delta']>=threshold]\n",
    "print(\"The mean of Top 1% returns:\", returns_check_df['returns_during_3day'].mean())\n",
    "\n",
    "### 만약 하위 1% threshold를 넘기면?\n",
    "threshold = test_df.target_delta.quantile(0.05)\n",
    "returns_check_df = test_df[test_df['target_delta']<=threshold]\n",
    "print(\"The mean of Bottom 1% returns:\", returns_check_df['returns_during_3day'].mean())"
   ]
  },
  {
   "cell_type": "code",
   "execution_count": 119,
   "metadata": {},
   "outputs": [
    {
     "name": "stdout",
     "output_type": "stream",
     "text": [
      "The mean of returns: 0.00521905678927385\n",
      "The mean of over 0 returns: 0.007600824838020841\n",
      "The mean of under 0 returns: 0.003358909433392784\n"
     ]
    }
   ],
   "source": [
    "### Target Delta\n",
    "print(\"The mean of returns:\", test_df['returns_during_3day'].mean())\n",
    "\n",
    "### 만약 0 threshold를 넘기면?\n",
    "threshold = 0\n",
    "returns_check_df = test_df[test_df['target_delta']>=threshold]\n",
    "print(\"The mean of over 0 returns:\", returns_check_df['returns_during_3day'].mean())\n",
    "\n",
    "### 만약 0 이하면?\n",
    "threshold = 0\n",
    "returns_check_df = test_df[test_df['target_delta']<=threshold]\n",
    "print(\"The mean of under 0 returns:\", returns_check_df['returns_during_3day'].mean())"
   ]
  }
 ],
 "metadata": {
  "kernelspec": {
   "display_name": "base",
   "language": "python",
   "name": "python3"
  },
  "language_info": {
   "codemirror_mode": {
    "name": "ipython",
    "version": 3
   },
   "file_extension": ".py",
   "mimetype": "text/x-python",
   "name": "python",
   "nbconvert_exporter": "python",
   "pygments_lexer": "ipython3",
   "version": "3.12.4"
  }
 },
 "nbformat": 4,
 "nbformat_minor": 2
}
