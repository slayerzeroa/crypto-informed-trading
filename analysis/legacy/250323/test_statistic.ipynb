{
 "cells": [
  {
   "cell_type": "markdown",
   "metadata": {},
   "source": [
    "### 통계적 분석"
   ]
  },
  {
   "cell_type": "code",
   "execution_count": 45,
   "metadata": {},
   "outputs": [],
   "source": [
    "### 라이브러리\n",
    "import numpy as np\n",
    "import pandas as pd\n",
    "\n",
    "from sklearn.model_selection import train_test_split\n",
    "\n",
    "from scipy import stats\n",
    "from scipy.stats import shapiro\n",
    "\n",
    "import statsmodels.api as sm\n",
    "from statsmodels.tsa.stattools import grangercausalitytests\n",
    "from statsmodels.stats.stattools import jarque_bera\n",
    "from statsmodels.stats.outliers_influence import variance_inflation_factor\n",
    "\n",
    "from sklearn.preprocessing import StandardScaler\n",
    "\n",
    "import datetime\n",
    "\n",
    "### 환경설정\n",
    "np.random.seed(4)\n",
    "\n",
    "\n",
    "### 함수 정의\n",
    "def preprocess_transaction_flag(df):\n",
    "    df['transaction_flag'] = df['transaction_count'].apply(lambda x: 1 if x > 0 else 0)\n",
    "    return df\n",
    "\n",
    "\n",
    "def trim_date(df, start, end):\n",
    "    ### df date 형식 맞춰주기\n",
    "    df['date'] = df['date'].astype(str)\n",
    "    if len(df['date'][0]) == 8:\n",
    "        df['date'] = df['date'].apply(lambda x: x[0:4]+'-'+x[4:6]+'-'+x[6:])\n",
    "\n",
    "\n",
    "    return df[(df['date']>=start) & (df['date']<=end)]"
   ]
  },
  {
   "cell_type": "markdown",
   "metadata": {},
   "source": [
    "### 데이터 세팅"
   ]
  },
  {
   "cell_type": "code",
   "execution_count": null,
   "metadata": {},
   "outputs": [
    {
     "name": "stderr",
     "output_type": "stream",
     "text": [
      "C:\\Users\\slaye\\AppData\\Local\\Temp\\ipykernel_40084\\4114716843.py:53: FutureWarning: The default fill_method='pad' in Series.pct_change is deprecated and will be removed in a future version. Either fill in any non-leading NA values prior to calling pct_change or specify 'fill_method=None' to not fill NA values.\n",
      "  test_df['target_returns'] = test_df['target'].pct_change(1)\n"
     ]
    }
   ],
   "source": [
    "### 학습용 데이터 읽기\n",
    "test_df = pd.read_csv(\"data/test/test_df.csv\")\n",
    "test_df.set_index('date', inplace=True)\n",
    "\n",
    "### 이벤트용 데이터 읽기\n",
    "event_df = pd.read_csv(\"./data/event/bitcoin_event_detail_no_explain.csv\")\n",
    "event_df.index = event_df['Date'].astype(str).apply(lambda x: x[0:4]+'-'+x[4:6]+'-'+x[6:])\n",
    "# event_df = event_df[event_df['predict']==1]\n",
    "\n",
    "\n",
    "target_event_receive_df = pd.read_csv(\"./data/target/event_2_day_transactions_over_136_threshold_1000_receive.csv\")\n",
    "target_event_receive_df = preprocess_transaction_flag(target_event_receive_df)\n",
    "target_event_receive_df.columns = ['date', 'transaction_count', 'transaction_amount', 'transaction_flag']\n",
    "\n",
    "target_event_receive_df = trim_date(target_event_receive_df, (test_df.index)[0], (test_df.index)[-1])\n",
    "\n",
    "\n",
    "\n",
    "### Bitcoin Event Flag 추가 / 긍정, 부정, 애매 이벤트 필터링\n",
    "# pos, neg, neu, all\n",
    "event_sentiment = 'neg'\n",
    "if event_sentiment == 'all':\n",
    "    pass\n",
    "elif event_sentiment == 'pos':\n",
    "    event_df = event_df[event_df['classification']==1]\n",
    "elif event_sentiment == 'neg':\n",
    "    event_df = event_df[event_df['classification']==0]\n",
    "elif event_sentiment == 'neu':\n",
    "    event_df = event_df[event_df['classification']==2]\n",
    "event_df['classification'] = 1\n",
    "event_df = event_df['classification']\n",
    "event_df = event_df[~event_df.index.duplicated(keep='first')]\n",
    "\n",
    "test_df['event_flag'] = event_df\n",
    "test_df['event_flag'] = test_df['event_flag'].fillna(0)\n",
    "event_flag_copy = test_df['event_flag'].values\n",
    "\n",
    "### 분석 데이터 선택\n",
    "target_df = target_event_receive_df.copy().set_index('date')\n",
    "\n",
    "### test_df에 target_df 데이터 적용\n",
    "test_df['transaction_count'] = target_df['transaction_count']\n",
    "test_df['transaction_amount'] = target_df['transaction_amount']\n",
    "test_df['transaction_flag'] = target_df['transaction_flag']\n",
    "test_df['transaction_amount_usd'] = test_df['transaction_amount'] * test_df['close']\n",
    "\n",
    "### test_df의 target 선택\n",
    "test_df['target'] = test_df['transaction_amount_usd']\n",
    "test_df['target'] = np.where(test_df['target'] == 0, 1e-10, test_df['target'])\n",
    "\n",
    "### target 관련 파생변수 생성\n",
    "test_df['target_delta'] = test_df['target'].diff(1)\n",
    "test_df['target_returns'] = test_df['target'].pct_change(1)\n",
    "\n",
    "### VPIN 관련 변수 추가\n",
    "vpin = pd.read_csv('./data/vpin/vpin.csv')\n",
    "vpin['ma_10'] = vpin['vpin'].rolling(10).mean()\n",
    "vpin['ma_10'] = vpin['ma_10'].fillna(vpin['ma_10'].mean())\n",
    "vpin = vpin.set_index('date')\n",
    "\n",
    "test_df['vpin'] = vpin['vpin']\n",
    "test_df['vpin_ma_10'] = vpin['ma_10']\n",
    "\n",
    "##### 전처리 관련\n",
    "test_df = test_df.replace([np.inf, -np.inf], np.nan)\n",
    "test_df = test_df.fillna(test_df.mean())"
   ]
  },
  {
   "cell_type": "code",
   "execution_count": 47,
   "metadata": {},
   "outputs": [
    {
     "data": {
      "text/html": [
       "<div>\n",
       "<style scoped>\n",
       "    .dataframe tbody tr th:only-of-type {\n",
       "        vertical-align: middle;\n",
       "    }\n",
       "\n",
       "    .dataframe tbody tr th {\n",
       "        vertical-align: top;\n",
       "    }\n",
       "\n",
       "    .dataframe thead th {\n",
       "        text-align: right;\n",
       "    }\n",
       "</style>\n",
       "<table border=\"1\" class=\"dataframe\">\n",
       "  <thead>\n",
       "    <tr style=\"text-align: right;\">\n",
       "      <th></th>\n",
       "      <th>count</th>\n",
       "      <th>mean</th>\n",
       "      <th>std</th>\n",
       "      <th>min</th>\n",
       "      <th>1%</th>\n",
       "      <th>25%</th>\n",
       "      <th>50%</th>\n",
       "      <th>75%</th>\n",
       "      <th>99%</th>\n",
       "      <th>max</th>\n",
       "    </tr>\n",
       "  </thead>\n",
       "  <tbody>\n",
       "    <tr>\n",
       "      <th>returns</th>\n",
       "      <td>2830.0</td>\n",
       "      <td>1.612090e-03</td>\n",
       "      <td>3.607990e-02</td>\n",
       "      <td>-3.950485e-01</td>\n",
       "      <td>-9.999244e-02</td>\n",
       "      <td>-1.227509e-02</td>\n",
       "      <td>0.000000e+00</td>\n",
       "      <td>1.529362e-02</td>\n",
       "      <td>1.063411e-01</td>\n",
       "      <td>2.250139e-01</td>\n",
       "    </tr>\n",
       "    <tr>\n",
       "      <th>transaction_amount</th>\n",
       "      <td>2830.0</td>\n",
       "      <td>1.851405e+05</td>\n",
       "      <td>9.541025e+05</td>\n",
       "      <td>0.000000e+00</td>\n",
       "      <td>0.000000e+00</td>\n",
       "      <td>0.000000e+00</td>\n",
       "      <td>1.000000e+04</td>\n",
       "      <td>1.285258e+05</td>\n",
       "      <td>2.228565e+06</td>\n",
       "      <td>2.491523e+07</td>\n",
       "    </tr>\n",
       "    <tr>\n",
       "      <th>target</th>\n",
       "      <td>2830.0</td>\n",
       "      <td>1.823643e+09</td>\n",
       "      <td>5.089270e+09</td>\n",
       "      <td>1.000000e-10</td>\n",
       "      <td>1.000000e-10</td>\n",
       "      <td>1.000000e-10</td>\n",
       "      <td>2.242831e+08</td>\n",
       "      <td>1.823643e+09</td>\n",
       "      <td>1.598677e+10</td>\n",
       "      <td>1.066540e+11</td>\n",
       "    </tr>\n",
       "    <tr>\n",
       "      <th>target_delta</th>\n",
       "      <td>2830.0</td>\n",
       "      <td>-1.511529e+06</td>\n",
       "      <td>4.740623e+09</td>\n",
       "      <td>-5.895144e+10</td>\n",
       "      <td>-9.631444e+09</td>\n",
       "      <td>-1.964618e+08</td>\n",
       "      <td>0.000000e+00</td>\n",
       "      <td>8.958915e+07</td>\n",
       "      <td>1.046060e+10</td>\n",
       "      <td>6.482819e+10</td>\n",
       "    </tr>\n",
       "    <tr>\n",
       "      <th>target_returns</th>\n",
       "      <td>2830.0</td>\n",
       "      <td>2.304158e+18</td>\n",
       "      <td>1.682938e+19</td>\n",
       "      <td>-1.000000e+00</td>\n",
       "      <td>-1.000000e+00</td>\n",
       "      <td>-2.498244e-01</td>\n",
       "      <td>0.000000e+00</td>\n",
       "      <td>2.406381e-01</td>\n",
       "      <td>5.823788e+19</td>\n",
       "      <td>5.895144e+20</td>\n",
       "    </tr>\n",
       "    <tr>\n",
       "      <th>vpin</th>\n",
       "      <td>2830.0</td>\n",
       "      <td>6.453470e-01</td>\n",
       "      <td>6.112185e-02</td>\n",
       "      <td>9.000000e-04</td>\n",
       "      <td>4.836492e-01</td>\n",
       "      <td>6.098612e-01</td>\n",
       "      <td>6.482219e-01</td>\n",
       "      <td>6.859938e-01</td>\n",
       "      <td>7.729164e-01</td>\n",
       "      <td>8.470440e-01</td>\n",
       "    </tr>\n",
       "  </tbody>\n",
       "</table>\n",
       "</div>"
      ],
      "text/plain": [
       "                     count          mean           std           min  \\\n",
       "returns             2830.0  1.612090e-03  3.607990e-02 -3.950485e-01   \n",
       "transaction_amount  2830.0  1.851405e+05  9.541025e+05  0.000000e+00   \n",
       "target              2830.0  1.823643e+09  5.089270e+09  1.000000e-10   \n",
       "target_delta        2830.0 -1.511529e+06  4.740623e+09 -5.895144e+10   \n",
       "target_returns      2830.0  2.304158e+18  1.682938e+19 -1.000000e+00   \n",
       "vpin                2830.0  6.453470e-01  6.112185e-02  9.000000e-04   \n",
       "\n",
       "                              1%           25%           50%           75%  \\\n",
       "returns            -9.999244e-02 -1.227509e-02  0.000000e+00  1.529362e-02   \n",
       "transaction_amount  0.000000e+00  0.000000e+00  1.000000e+04  1.285258e+05   \n",
       "target              1.000000e-10  1.000000e-10  2.242831e+08  1.823643e+09   \n",
       "target_delta       -9.631444e+09 -1.964618e+08  0.000000e+00  8.958915e+07   \n",
       "target_returns     -1.000000e+00 -2.498244e-01  0.000000e+00  2.406381e-01   \n",
       "vpin                4.836492e-01  6.098612e-01  6.482219e-01  6.859938e-01   \n",
       "\n",
       "                             99%           max  \n",
       "returns             1.063411e-01  2.250139e-01  \n",
       "transaction_amount  2.228565e+06  2.491523e+07  \n",
       "target              1.598677e+10  1.066540e+11  \n",
       "target_delta        1.046060e+10  6.482819e+10  \n",
       "target_returns      5.823788e+19  5.895144e+20  \n",
       "vpin                7.729164e-01  8.470440e-01  "
      ]
     },
     "execution_count": 47,
     "metadata": {},
     "output_type": "execute_result"
    }
   ],
   "source": [
    "test_df[['returns', 'transaction_amount', 'target', 'target_delta', 'target_returns', 'vpin']].describe(percentiles=[.01, .25, .5, .75, .99]).T"
   ]
  },
  {
   "cell_type": "markdown",
   "metadata": {},
   "source": [
    "### 기본적인 통계, 시계열 분석"
   ]
  },
  {
   "cell_type": "code",
   "execution_count": 48,
   "metadata": {},
   "outputs": [
    {
     "name": "stdout",
     "output_type": "stream",
     "text": [
      "             target  target_delta  target_returns\n",
      "count  2.830000e+03  2.830000e+03    2.830000e+03\n",
      "mean   1.823643e+09 -1.511529e+06    2.304158e+18\n",
      "std    5.089270e+09  4.740623e+09    1.682938e+19\n",
      "min    1.000000e-10 -5.895144e+10   -1.000000e+00\n",
      "25%    1.000000e-10 -1.964618e+08   -2.498244e-01\n",
      "50%    2.242831e+08  0.000000e+00    0.000000e+00\n",
      "75%    1.823643e+09  8.958915e+07    2.406381e-01\n",
      "max    1.066540e+11  6.482819e+10    5.895144e+20\n",
      "date\n",
      "2017    2.0\n",
      "2018    5.0\n",
      "2019    1.0\n",
      "2020    0.0\n",
      "2021    5.0\n",
      "2022    8.0\n",
      "2023    1.0\n",
      "2024    0.0\n",
      "Name: event_flag, dtype: float64\n"
     ]
    }
   ],
   "source": [
    "stats_df = test_df.copy()\n",
    "\n",
    "print(stats_df[['target', 'target_delta', 'target_returns']].describe())\n",
    "\n",
    "stats_df.index = pd.to_datetime(stats_df.index)\n",
    "\n",
    "# 연도별 event_flag 개수 확인\n",
    "event_count_per_year = stats_df.groupby(stats_df.index.year)['event_flag'].sum()\n",
    "\n",
    "# 결과 출력\n",
    "print(event_count_per_year)\n"
   ]
  },
  {
   "cell_type": "code",
   "execution_count": 49,
   "metadata": {},
   "outputs": [
    {
     "data": {
      "text/plain": [
       "transaction_flag\n",
       "1    1572\n",
       "0    1258\n",
       "Name: count, dtype: int64"
      ]
     },
     "execution_count": 49,
     "metadata": {},
     "output_type": "execute_result"
    }
   ],
   "source": [
    "lagged_event_df = test_df.copy()\n",
    "lagged_event_df['transaction_flag'].value_counts()"
   ]
  },
  {
   "cell_type": "code",
   "execution_count": 50,
   "metadata": {},
   "outputs": [
    {
     "data": {
      "text/plain": [
       "transaction_flag\n",
       "1    15\n",
       "0     7\n",
       "Name: count, dtype: int64"
      ]
     },
     "execution_count": 50,
     "metadata": {},
     "output_type": "execute_result"
    }
   ],
   "source": [
    "lagged_event_df = test_df.copy()\n",
    "lagged_event_df['lagged_event_flag'] = lagged_event_df['event_flag'].shift(-1).fillna(0)\n",
    "lagged_event_df[lagged_event_df['lagged_event_flag']==1]['transaction_flag'].value_counts()"
   ]
  },
  {
   "cell_type": "markdown",
   "metadata": {},
   "source": [
    "### VIF: Volume과 Target Delta 사이 설명력 중복 확인"
   ]
  },
  {
   "cell_type": "code",
   "execution_count": 51,
   "metadata": {},
   "outputs": [
    {
     "name": "stdout",
     "output_type": "stream",
     "text": [
      "                   returns  lag_target_delta    target    volume\n",
      "returns           1.000000          0.028948 -0.103140  0.101290\n",
      "lag_target_delta  0.028948          1.000000  0.328641  0.011174\n",
      "target           -0.103140          0.328641  1.000000 -0.053588\n",
      "volume            0.101290          0.011174 -0.053588  1.000000\n",
      "            Feature       VIF\n",
      "0  lag_target_delta  1.058397\n",
      "1            target  1.168842\n",
      "2            volume  1.108058\n"
     ]
    }
   ],
   "source": [
    "\n",
    "# Target Delta를 적절히 Lagging\n",
    "test_df['lag_target_delta'] = test_df['target_delta'].shift(1)\n",
    "\n",
    "# Independent, Dependent 분리\n",
    "y = test_df['returns'].shift(-3).fillna(test_df['returns'].mean())\n",
    "X = test_df[['lag_target_delta', 'target', 'volume']].fillna(test_df.mean())\n",
    "\n",
    "\n",
    "X['returns'] = test_df['returns'].shift(-3).fillna(test_df['returns'].mean())\n",
    "\n",
    "## train, test 데이터 분리\n",
    "X_train, X_test, y_train, y_test = train_test_split(X, y, test_size=0.6, shuffle=False)\n",
    "\n",
    "start = '2023-01-01'\n",
    "end = '2024-12-31'\n",
    "X_test = X[(X.index >= start)&(X.index <= end)]\n",
    "y_test = y[(y.index >= start)&(y.index <= end)]\n",
    "\n",
    "\n",
    "print(X_test[['returns', 'lag_target_delta', 'target', 'volume']].corr())  # 상관관계 확인\n",
    "\n",
    "# VIF 계산\n",
    "X = X[['lag_target_delta', 'target', 'volume']]  # OLS 모델에서 사용한 독립변수들\n",
    "X_train, X_test, y_train, y_test = train_test_split(X, y, test_size=0.4, shuffle=False)\n",
    "vif_data = pd.DataFrame()\n",
    "vif_data[\"Feature\"] = X_test.columns\n",
    "vif_data[\"VIF\"] = [variance_inflation_factor(X_test.values, i) for i in range(X_test.shape[1])]\n",
    "\n",
    "print(vif_data)"
   ]
  },
  {
   "cell_type": "markdown",
   "metadata": {},
   "source": [
    "### Event 이후 Statistics"
   ]
  },
  {
   "cell_type": "code",
   "execution_count": 52,
   "metadata": {},
   "outputs": [
    {
     "data": {
      "text/plain": [
       "Date\n",
       "2016-08-03    1\n",
       "2017-12-07    1\n",
       "2017-12-19    1\n",
       "2018-01-26    1\n",
       "2018-05-01    1\n",
       "2018-06-01    1\n",
       "2018-07-09    1\n",
       "2018-09-01    1\n",
       "2019-05-07    1\n",
       "2021-08-01    1\n",
       "2021-10-28    1\n",
       "2021-12-02    1\n",
       "2021-12-06    1\n",
       "2021-12-12    1\n",
       "2022-01-27    1\n",
       "2022-03-01    1\n",
       "2022-05-09    1\n",
       "2022-09-20    1\n",
       "2022-11-02    1\n",
       "2022-11-07    1\n",
       "2022-11-10    1\n",
       "2022-11-11    1\n",
       "2023-09-25    1\n",
       "Name: classification, dtype: int64"
      ]
     },
     "execution_count": 52,
     "metadata": {},
     "output_type": "execute_result"
    }
   ],
   "source": [
    "event_df"
   ]
  },
  {
   "cell_type": "code",
   "execution_count": 53,
   "metadata": {},
   "outputs": [
    {
     "data": {
      "text/html": [
       "<div>\n",
       "<style scoped>\n",
       "    .dataframe tbody tr th:only-of-type {\n",
       "        vertical-align: middle;\n",
       "    }\n",
       "\n",
       "    .dataframe tbody tr th {\n",
       "        vertical-align: top;\n",
       "    }\n",
       "\n",
       "    .dataframe thead th {\n",
       "        text-align: right;\n",
       "    }\n",
       "</style>\n",
       "<table border=\"1\" class=\"dataframe\">\n",
       "  <thead>\n",
       "    <tr style=\"text-align: right;\">\n",
       "      <th></th>\n",
       "      <th>classification</th>\n",
       "    </tr>\n",
       "    <tr>\n",
       "      <th>Date</th>\n",
       "      <th></th>\n",
       "    </tr>\n",
       "  </thead>\n",
       "  <tbody>\n",
       "    <tr>\n",
       "      <th>2016-08-03</th>\n",
       "      <td>1</td>\n",
       "    </tr>\n",
       "    <tr>\n",
       "      <th>2017-12-07</th>\n",
       "      <td>1</td>\n",
       "    </tr>\n",
       "    <tr>\n",
       "      <th>2017-12-19</th>\n",
       "      <td>1</td>\n",
       "    </tr>\n",
       "    <tr>\n",
       "      <th>2018-01-26</th>\n",
       "      <td>1</td>\n",
       "    </tr>\n",
       "    <tr>\n",
       "      <th>2018-05-01</th>\n",
       "      <td>1</td>\n",
       "    </tr>\n",
       "    <tr>\n",
       "      <th>2018-06-01</th>\n",
       "      <td>1</td>\n",
       "    </tr>\n",
       "    <tr>\n",
       "      <th>2018-07-09</th>\n",
       "      <td>1</td>\n",
       "    </tr>\n",
       "    <tr>\n",
       "      <th>2018-09-01</th>\n",
       "      <td>1</td>\n",
       "    </tr>\n",
       "    <tr>\n",
       "      <th>2019-05-07</th>\n",
       "      <td>1</td>\n",
       "    </tr>\n",
       "    <tr>\n",
       "      <th>2021-08-01</th>\n",
       "      <td>1</td>\n",
       "    </tr>\n",
       "    <tr>\n",
       "      <th>2021-10-28</th>\n",
       "      <td>1</td>\n",
       "    </tr>\n",
       "    <tr>\n",
       "      <th>2021-12-02</th>\n",
       "      <td>1</td>\n",
       "    </tr>\n",
       "    <tr>\n",
       "      <th>2021-12-06</th>\n",
       "      <td>1</td>\n",
       "    </tr>\n",
       "    <tr>\n",
       "      <th>2021-12-12</th>\n",
       "      <td>1</td>\n",
       "    </tr>\n",
       "    <tr>\n",
       "      <th>2022-01-27</th>\n",
       "      <td>1</td>\n",
       "    </tr>\n",
       "    <tr>\n",
       "      <th>2022-03-01</th>\n",
       "      <td>1</td>\n",
       "    </tr>\n",
       "    <tr>\n",
       "      <th>2022-05-09</th>\n",
       "      <td>1</td>\n",
       "    </tr>\n",
       "    <tr>\n",
       "      <th>2022-09-20</th>\n",
       "      <td>1</td>\n",
       "    </tr>\n",
       "    <tr>\n",
       "      <th>2022-11-02</th>\n",
       "      <td>1</td>\n",
       "    </tr>\n",
       "    <tr>\n",
       "      <th>2022-11-07</th>\n",
       "      <td>1</td>\n",
       "    </tr>\n",
       "    <tr>\n",
       "      <th>2022-11-10</th>\n",
       "      <td>1</td>\n",
       "    </tr>\n",
       "    <tr>\n",
       "      <th>2022-11-11</th>\n",
       "      <td>1</td>\n",
       "    </tr>\n",
       "    <tr>\n",
       "      <th>2023-09-25</th>\n",
       "      <td>1</td>\n",
       "    </tr>\n",
       "  </tbody>\n",
       "</table>\n",
       "</div>"
      ],
      "text/plain": [
       "            classification\n",
       "Date                      \n",
       "2016-08-03               1\n",
       "2017-12-07               1\n",
       "2017-12-19               1\n",
       "2018-01-26               1\n",
       "2018-05-01               1\n",
       "2018-06-01               1\n",
       "2018-07-09               1\n",
       "2018-09-01               1\n",
       "2019-05-07               1\n",
       "2021-08-01               1\n",
       "2021-10-28               1\n",
       "2021-12-02               1\n",
       "2021-12-06               1\n",
       "2021-12-12               1\n",
       "2022-01-27               1\n",
       "2022-03-01               1\n",
       "2022-05-09               1\n",
       "2022-09-20               1\n",
       "2022-11-02               1\n",
       "2022-11-07               1\n",
       "2022-11-10               1\n",
       "2022-11-11               1\n",
       "2023-09-25               1"
      ]
     },
     "execution_count": 53,
     "metadata": {},
     "output_type": "execute_result"
    }
   ],
   "source": [
    "event_df = event_df.to_frame()\n",
    "event_df"
   ]
  },
  {
   "cell_type": "code",
   "execution_count": 54,
   "metadata": {},
   "outputs": [
    {
     "data": {
      "text/plain": [
       "-0.00828780187938726"
      ]
     },
     "execution_count": 54,
     "metadata": {},
     "output_type": "execute_result"
    }
   ],
   "source": [
    "\n",
    "# 수익률 계산 함수\n",
    "def calculate_returns(test_df, event_df, days):\n",
    "    returns = {}\n",
    "    event_df.index = pd.to_datetime(event_df.index).date\n",
    "    for date in event_df.index:\n",
    "        future_date = (date + pd.Timedelta(days=days)).strftime('%Y-%m-%d')\n",
    "        date = date.strftime('%Y-%m-%d')\n",
    "        if future_date in test_df.index:\n",
    "            ret = (test_df.loc[future_date, 'close'] - test_df.loc[date, 'close']) / test_df.loc[date, 'close']\n",
    "            returns[date] = ret\n",
    "        else:\n",
    "            returns[date] = None  # 미래 데이터가 없는 경우\n",
    "    return pd.Series(returns)\n",
    "\n",
    "# 각 기간의 수익률 계산\n",
    "event_df['Return_7d'] = list(calculate_returns(test_df, event_df, 1))\n",
    "event_df['Return_7d'].mean()\n",
    "\n",
    "\n",
    "# event_df['Return_30d'] = calculate_returns(test_df, event_df, 30)\n",
    "# event_df['Return_90d'] = calculate_returns(test_df, event_df, 90)"
   ]
  },
  {
   "cell_type": "code",
   "execution_count": 55,
   "metadata": {},
   "outputs": [
    {
     "data": {
      "text/plain": [
       "-0.00828780187938726"
      ]
     },
     "execution_count": 55,
     "metadata": {},
     "output_type": "execute_result"
    }
   ],
   "source": [
    "event_df.Return_7d.mean()"
   ]
  },
  {
   "cell_type": "code",
   "execution_count": null,
   "metadata": {},
   "outputs": [],
   "source": []
  }
 ],
 "metadata": {
  "kernelspec": {
   "display_name": "base",
   "language": "python",
   "name": "python3"
  },
  "language_info": {
   "codemirror_mode": {
    "name": "ipython",
    "version": 3
   },
   "file_extension": ".py",
   "mimetype": "text/x-python",
   "name": "python",
   "nbconvert_exporter": "python",
   "pygments_lexer": "ipython3",
   "version": "3.12.4"
  }
 },
 "nbformat": 4,
 "nbformat_minor": 2
}
