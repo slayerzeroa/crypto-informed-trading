{
 "cells": [
  {
   "cell_type": "markdown",
   "metadata": {},
   "source": [
    "### 통계적 분석"
   ]
  },
  {
   "cell_type": "code",
   "execution_count": 5,
   "metadata": {},
   "outputs": [],
   "source": [
    "### 라이브러리\n",
    "import numpy as np\n",
    "import pandas as pd\n",
    "\n",
    "from sklearn.model_selection import train_test_split\n",
    "\n",
    "from scipy import stats\n",
    "from scipy.stats import shapiro\n",
    "\n",
    "import statsmodels.api as sm\n",
    "from statsmodels.tsa.stattools import grangercausalitytests\n",
    "from statsmodels.stats.stattools import jarque_bera\n",
    "from statsmodels.stats.outliers_influence import variance_inflation_factor\n",
    "\n",
    "from sklearn.preprocessing import StandardScaler\n",
    "\n",
    "import datetime\n",
    "\n",
    "### 환경설정\n",
    "np.random.seed(4)\n",
    "\n",
    "\n",
    "### 함수 정의\n",
    "def preprocess_transaction_flag(df):\n",
    "    df['transaction_flag'] = df['transaction_count'].apply(lambda x: 1 if x > 0 else 0)\n",
    "    return df\n",
    "\n",
    "\n",
    "def trim_date(df, start, end):\n",
    "    ### df date 형식 맞춰주기\n",
    "    df['date'] = df['date'].astype(str)\n",
    "    if len(df['date'][0]) == 8:\n",
    "        df['date'] = df['date'].apply(lambda x: x[0:4]+'-'+x[4:6]+'-'+x[6:])\n",
    "\n",
    "\n",
    "    return df[(df['date']>=start) & (df['date']<=end)]"
   ]
  },
  {
   "cell_type": "markdown",
   "metadata": {},
   "source": [
    "### 데이터 세팅"
   ]
  },
  {
   "cell_type": "code",
   "execution_count": 6,
   "metadata": {},
   "outputs": [
    {
     "name": "stderr",
     "output_type": "stream",
     "text": [
      "C:\\Users\\slaye\\AppData\\Local\\Temp\\ipykernel_15640\\182062993.py:51: FutureWarning: The default fill_method='pad' in Series.pct_change is deprecated and will be removed in a future version. Either fill in any non-leading NA values prior to calling pct_change or specify 'fill_method=None' to not fill NA values.\n",
      "  test_df['target_returns'] = test_df['target'].pct_change(1)\n"
     ]
    }
   ],
   "source": [
    "### 학습용 데이터 읽기\n",
    "test_df = pd.read_csv(\"data/test/test_df.csv\")\n",
    "test_df.set_index('date', inplace=True)\n",
    "\n",
    "### 이벤트용 데이터 읽기\n",
    "event_df = pd.read_csv(\"./data/event/bitcoin_event_details_sentiment.csv\")\n",
    "event_df.index = event_df['Date'].astype(str).apply(lambda x: x[0:4]+'-'+x[4:6]+'-'+x[6:])\n",
    "\n",
    "target_event_receive_df = pd.read_csv(\"./data/target/event_2_day_transactions_over_100_receive.csv\")\n",
    "target_event_receive_df = preprocess_transaction_flag(target_event_receive_df)\n",
    "target_event_receive_df.columns = ['date', 'transaction_count', 'transaction_amount', 'transaction_flag']\n",
    "\n",
    "target_event_receive_df = trim_date(target_event_receive_df, (test_df.index)[0], (test_df.index)[-1])\n",
    "\n",
    "\n",
    "\n",
    "### Bitcoin Event Flag 추가 / 긍정, 부정, 애매 이벤트 필터링\n",
    "# pos, neg, neu, all\n",
    "event_sentiment = 'neg'\n",
    "if event_sentiment == 'all':\n",
    "    pass\n",
    "elif event_sentiment == 'pos':\n",
    "    event_df = event_df[event_df['classification']==1]\n",
    "elif event_sentiment == 'neg':\n",
    "    event_df = event_df[event_df['classification']==0]\n",
    "elif event_sentiment == 'neu':\n",
    "    event_df = event_df[event_df['classification']==2]\n",
    "event_df['classification'] = 1\n",
    "event_df = event_df['classification']\n",
    "event_df = event_df[~event_df.index.duplicated(keep='first')]\n",
    "\n",
    "test_df['event_flag'] = event_df\n",
    "test_df['event_flag'] = test_df['event_flag'].fillna(0)\n",
    "event_flag_copy = test_df['event_flag'].values\n",
    "\n",
    "### 분석 데이터 선택\n",
    "target_df = target_event_receive_df.copy().set_index('date')\n",
    "\n",
    "### test_df에 target_df 데이터 적용\n",
    "test_df['transaction_count'] = target_df['transaction_count']\n",
    "test_df['transaction_amount'] = target_df['transaction_amount']\n",
    "test_df['transaction_flag'] = target_df['transaction_flag']\n",
    "test_df['transaction_amount_usd'] = test_df['transaction_amount'] * test_df['close']\n",
    "\n",
    "### test_df의 target 선택\n",
    "test_df['target'] = test_df['transaction_amount_usd']\n",
    "test_df['target'] = np.where(test_df['target'] == 0, 1e-10, test_df['target'])\n",
    "\n",
    "### target 관련 파생변수 생성\n",
    "test_df['target_delta'] = test_df['target'].diff(1)\n",
    "test_df['target_returns'] = test_df['target'].pct_change(1)\n",
    "\n",
    "### VPIN 관련 변수 추가\n",
    "vpin = pd.read_csv('./data/vpin/vpin.csv')\n",
    "vpin['ma_10'] = vpin['vpin'].rolling(10).mean()\n",
    "vpin['ma_10'] = vpin['ma_10'].fillna(vpin['ma_10'].mean())\n",
    "vpin = vpin.set_index('date')\n",
    "\n",
    "test_df['vpin'] = vpin['vpin']\n",
    "test_df['vpin_ma_10'] = vpin['ma_10']\n",
    "\n",
    "##### 전처리 관련\n",
    "test_df = test_df.replace([np.inf, -np.inf], np.nan)\n",
    "test_df = test_df.fillna(test_df.mean())"
   ]
  },
  {
   "cell_type": "code",
   "execution_count": 7,
   "metadata": {},
   "outputs": [
    {
     "data": {
      "text/html": [
       "<div>\n",
       "<style scoped>\n",
       "    .dataframe tbody tr th:only-of-type {\n",
       "        vertical-align: middle;\n",
       "    }\n",
       "\n",
       "    .dataframe tbody tr th {\n",
       "        vertical-align: top;\n",
       "    }\n",
       "\n",
       "    .dataframe thead th {\n",
       "        text-align: right;\n",
       "    }\n",
       "</style>\n",
       "<table border=\"1\" class=\"dataframe\">\n",
       "  <thead>\n",
       "    <tr style=\"text-align: right;\">\n",
       "      <th></th>\n",
       "      <th>count</th>\n",
       "      <th>mean</th>\n",
       "      <th>std</th>\n",
       "      <th>min</th>\n",
       "      <th>1%</th>\n",
       "      <th>25%</th>\n",
       "      <th>50%</th>\n",
       "      <th>75%</th>\n",
       "      <th>99%</th>\n",
       "      <th>max</th>\n",
       "    </tr>\n",
       "  </thead>\n",
       "  <tbody>\n",
       "    <tr>\n",
       "      <th>returns</th>\n",
       "      <td>2830.0</td>\n",
       "      <td>1.612090e-03</td>\n",
       "      <td>3.607990e-02</td>\n",
       "      <td>-3.950485e-01</td>\n",
       "      <td>-9.999244e-02</td>\n",
       "      <td>-1.227509e-02</td>\n",
       "      <td>0.000000e+00</td>\n",
       "      <td>1.529362e-02</td>\n",
       "      <td>1.063411e-01</td>\n",
       "      <td>2.250139e-01</td>\n",
       "    </tr>\n",
       "    <tr>\n",
       "      <th>transaction_amount</th>\n",
       "      <td>2830.0</td>\n",
       "      <td>1.090343e+06</td>\n",
       "      <td>1.710551e+06</td>\n",
       "      <td>3.459729e+03</td>\n",
       "      <td>2.541147e+04</td>\n",
       "      <td>1.457848e+05</td>\n",
       "      <td>6.478094e+05</td>\n",
       "      <td>1.278148e+06</td>\n",
       "      <td>7.860000e+06</td>\n",
       "      <td>2.615641e+07</td>\n",
       "    </tr>\n",
       "    <tr>\n",
       "      <th>target</th>\n",
       "      <td>2830.0</td>\n",
       "      <td>1.410190e+10</td>\n",
       "      <td>2.097998e+10</td>\n",
       "      <td>2.191702e+08</td>\n",
       "      <td>9.494652e+08</td>\n",
       "      <td>3.796013e+09</td>\n",
       "      <td>6.888759e+09</td>\n",
       "      <td>1.410190e+10</td>\n",
       "      <td>1.022722e+11</td>\n",
       "      <td>2.402058e+11</td>\n",
       "    </tr>\n",
       "    <tr>\n",
       "      <th>target_delta</th>\n",
       "      <td>2830.0</td>\n",
       "      <td>-2.363036e+07</td>\n",
       "      <td>9.905321e+09</td>\n",
       "      <td>-9.012870e+10</td>\n",
       "      <td>-3.464132e+10</td>\n",
       "      <td>-1.560776e+09</td>\n",
       "      <td>-2.363036e+07</td>\n",
       "      <td>1.436089e+09</td>\n",
       "      <td>3.190207e+10</td>\n",
       "      <td>1.018130e+11</td>\n",
       "    </tr>\n",
       "    <tr>\n",
       "      <th>target_returns</th>\n",
       "      <td>2830.0</td>\n",
       "      <td>1.749027e-01</td>\n",
       "      <td>1.254728e+00</td>\n",
       "      <td>-9.824762e-01</td>\n",
       "      <td>-7.492699e-01</td>\n",
       "      <td>-2.259464e-01</td>\n",
       "      <td>0.000000e+00</td>\n",
       "      <td>2.751919e-01</td>\n",
       "      <td>3.093613e+00</td>\n",
       "      <td>3.472773e+01</td>\n",
       "    </tr>\n",
       "    <tr>\n",
       "      <th>vpin</th>\n",
       "      <td>2830.0</td>\n",
       "      <td>6.453470e-01</td>\n",
       "      <td>6.112185e-02</td>\n",
       "      <td>9.000000e-04</td>\n",
       "      <td>4.836492e-01</td>\n",
       "      <td>6.098612e-01</td>\n",
       "      <td>6.482219e-01</td>\n",
       "      <td>6.859938e-01</td>\n",
       "      <td>7.729164e-01</td>\n",
       "      <td>8.470440e-01</td>\n",
       "    </tr>\n",
       "  </tbody>\n",
       "</table>\n",
       "</div>"
      ],
      "text/plain": [
       "                     count          mean           std           min  \\\n",
       "returns             2830.0  1.612090e-03  3.607990e-02 -3.950485e-01   \n",
       "transaction_amount  2830.0  1.090343e+06  1.710551e+06  3.459729e+03   \n",
       "target              2830.0  1.410190e+10  2.097998e+10  2.191702e+08   \n",
       "target_delta        2830.0 -2.363036e+07  9.905321e+09 -9.012870e+10   \n",
       "target_returns      2830.0  1.749027e-01  1.254728e+00 -9.824762e-01   \n",
       "vpin                2830.0  6.453470e-01  6.112185e-02  9.000000e-04   \n",
       "\n",
       "                              1%           25%           50%           75%  \\\n",
       "returns            -9.999244e-02 -1.227509e-02  0.000000e+00  1.529362e-02   \n",
       "transaction_amount  2.541147e+04  1.457848e+05  6.478094e+05  1.278148e+06   \n",
       "target              9.494652e+08  3.796013e+09  6.888759e+09  1.410190e+10   \n",
       "target_delta       -3.464132e+10 -1.560776e+09 -2.363036e+07  1.436089e+09   \n",
       "target_returns     -7.492699e-01 -2.259464e-01  0.000000e+00  2.751919e-01   \n",
       "vpin                4.836492e-01  6.098612e-01  6.482219e-01  6.859938e-01   \n",
       "\n",
       "                             99%           max  \n",
       "returns             1.063411e-01  2.250139e-01  \n",
       "transaction_amount  7.860000e+06  2.615641e+07  \n",
       "target              1.022722e+11  2.402058e+11  \n",
       "target_delta        3.190207e+10  1.018130e+11  \n",
       "target_returns      3.093613e+00  3.472773e+01  \n",
       "vpin                7.729164e-01  8.470440e-01  "
      ]
     },
     "execution_count": 7,
     "metadata": {},
     "output_type": "execute_result"
    }
   ],
   "source": [
    "test_df[['returns', 'transaction_amount', 'target', 'target_delta', 'target_returns', 'vpin']].describe(percentiles=[.01, .25, .5, .75, .99]).T"
   ]
  },
  {
   "cell_type": "markdown",
   "metadata": {},
   "source": [
    "### 기본적인 통계, 시계열 분석"
   ]
  },
  {
   "cell_type": "code",
   "execution_count": 8,
   "metadata": {},
   "outputs": [
    {
     "name": "stdout",
     "output_type": "stream",
     "text": [
      "             target  target_delta  target_returns\n",
      "count  2.830000e+03  2.830000e+03     2830.000000\n",
      "mean   1.410190e+10 -2.363036e+07        0.174903\n",
      "std    2.097998e+10  9.905321e+09        1.254728\n",
      "min    2.191702e+08 -9.012870e+10       -0.982476\n",
      "25%    3.796013e+09 -1.560776e+09       -0.225946\n",
      "50%    6.888759e+09 -2.363036e+07        0.000000\n",
      "75%    1.410190e+10  1.436089e+09        0.275192\n",
      "max    2.402058e+11  1.018130e+11       34.727727\n",
      "date\n",
      "2017    2.0\n",
      "2018    8.0\n",
      "2019    1.0\n",
      "2020    0.0\n",
      "2021    6.0\n",
      "2022    9.0\n",
      "2023    1.0\n",
      "2024    0.0\n",
      "Name: event_flag, dtype: float64\n"
     ]
    }
   ],
   "source": [
    "stats_df = test_df.copy()\n",
    "\n",
    "print(stats_df[['target', 'target_delta', 'target_returns']].describe())\n",
    "\n",
    "stats_df.index = pd.to_datetime(stats_df.index)\n",
    "\n",
    "# 연도별 event_flag 개수 확인\n",
    "event_count_per_year = stats_df.groupby(stats_df.index.year)['event_flag'].sum()\n",
    "\n",
    "# 결과 출력\n",
    "print(event_count_per_year)\n"
   ]
  },
  {
   "cell_type": "code",
   "execution_count": 9,
   "metadata": {},
   "outputs": [
    {
     "data": {
      "text/plain": [
       "transaction_flag\n",
       "1    2830\n",
       "Name: count, dtype: int64"
      ]
     },
     "execution_count": 9,
     "metadata": {},
     "output_type": "execute_result"
    }
   ],
   "source": [
    "lagged_event_df = test_df.copy()\n",
    "lagged_event_df['transaction_flag'].value_counts()"
   ]
  },
  {
   "cell_type": "code",
   "execution_count": 10,
   "metadata": {},
   "outputs": [
    {
     "data": {
      "text/plain": [
       "transaction_flag\n",
       "1    27\n",
       "Name: count, dtype: int64"
      ]
     },
     "execution_count": 10,
     "metadata": {},
     "output_type": "execute_result"
    }
   ],
   "source": [
    "lagged_event_df = test_df.copy()\n",
    "lagged_event_df['lagged_event_flag'] = lagged_event_df['event_flag'].shift(-1).fillna(0)\n",
    "lagged_event_df[lagged_event_df['lagged_event_flag']==1]['transaction_flag'].value_counts()"
   ]
  },
  {
   "cell_type": "markdown",
   "metadata": {},
   "source": [
    "### VIF: Volume과 Target Delta 사이 설명력 중복 확인"
   ]
  },
  {
   "cell_type": "code",
   "execution_count": 11,
   "metadata": {},
   "outputs": [
    {
     "name": "stdout",
     "output_type": "stream",
     "text": [
      "                   returns  lag_target_delta    target    volume\n",
      "returns           1.000000          0.043301 -0.089531  0.101290\n",
      "lag_target_delta  0.043301          1.000000  0.325697  0.023594\n",
      "target           -0.089531          0.325697  1.000000 -0.048433\n",
      "volume            0.101290          0.023594 -0.048433  1.000000\n",
      "            Feature       VIF\n",
      "0  lag_target_delta  1.024990\n",
      "1            target  1.142056\n",
      "2            volume  1.115669\n"
     ]
    }
   ],
   "source": [
    "\n",
    "# Target Delta를 적절히 Lagging\n",
    "test_df['lag_target_delta'] = test_df['target_delta'].shift(1)\n",
    "\n",
    "# Independent, Dependent 분리\n",
    "y = test_df['returns'].shift(-3).fillna(test_df['returns'].mean())\n",
    "X = test_df[['lag_target_delta', 'target', 'volume']].fillna(test_df.mean())\n",
    "\n",
    "\n",
    "X['returns'] = test_df['returns'].shift(-3).fillna(test_df['returns'].mean())\n",
    "\n",
    "## train, test 데이터 분리\n",
    "X_train, X_test, y_train, y_test = train_test_split(X, y, test_size=0.6, shuffle=False)\n",
    "\n",
    "start = '2023-01-01'\n",
    "end = '2024-12-31'\n",
    "X_test = X[(X.index >= start)&(X.index <= end)]\n",
    "y_test = y[(y.index >= start)&(y.index <= end)]\n",
    "\n",
    "\n",
    "print(X_test[['returns', 'lag_target_delta', 'target', 'volume']].corr())  # 상관관계 확인\n",
    "\n",
    "# VIF 계산\n",
    "X = X[['lag_target_delta', 'target', 'volume']]  # OLS 모델에서 사용한 독립변수들\n",
    "X_train, X_test, y_train, y_test = train_test_split(X, y, test_size=0.4, shuffle=False)\n",
    "vif_data = pd.DataFrame()\n",
    "vif_data[\"Feature\"] = X_test.columns\n",
    "vif_data[\"VIF\"] = [variance_inflation_factor(X_test.values, i) for i in range(X_test.shape[1])]\n",
    "\n",
    "print(vif_data)"
   ]
  }
 ],
 "metadata": {
  "kernelspec": {
   "display_name": "base",
   "language": "python",
   "name": "python3"
  },
  "language_info": {
   "codemirror_mode": {
    "name": "ipython",
    "version": 3
   },
   "file_extension": ".py",
   "mimetype": "text/x-python",
   "name": "python",
   "nbconvert_exporter": "python",
   "pygments_lexer": "ipython3",
   "version": "3.12.4"
  }
 },
 "nbformat": 4,
 "nbformat_minor": 2
}
